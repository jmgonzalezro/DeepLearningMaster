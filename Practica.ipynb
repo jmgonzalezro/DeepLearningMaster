{
 "metadata": {
  "language_info": {
   "codemirror_mode": {
    "name": "ipython",
    "version": 3
   },
   "file_extension": ".py",
   "mimetype": "text/x-python",
   "name": "python",
   "nbconvert_exporter": "python",
   "pygments_lexer": "ipython3",
   "version": 3
  },
  "orig_nbformat": 2,
  "kernelspec": {
   "name": "python_defaultSpec_1595966737933",
   "display_name": "Python 3.8.3 64-bit"
  }
 },
 "nbformat": 4,
 "nbformat_minor": 2,
 "cells": [
  {
   "cell_type": "markdown",
   "metadata": {},
   "source": [
    "# Deep Learning con Python\n",
    "\n",
    "Ejercicio final para la asignatura de Deep Learning en el Máster de Big Data & Data Science. Esta prueba consiste en la predicción de una variable objetivo, que será el considerar si el nivel de **ozono** está elevado o no. Se trata de un problema de clasificación binaria. \n",
    "\n",
    "Para ello, generaremos un modelo de **Red Neuronal Recurrente** que prediga esta variable.\n",
    "\n",
    "## Recurrent Neural Networks\n",
    "En las Redes Neuronales Recurrentes guardamos la salida de las activaciones de una o más capas de nuestra red. Habitualmente estas son activaciones ocultas. Entonces, la próxima vez que devolvemos el input a la red, incluimos el output anteriormente guardado dentro de los outputs normales de la capa anterior. Por ejemplo, si una capa oculta tiene 10 nodos de input regulares y 128 nodos coultos en la capa, entonces tendrá 138 nodos totales. Si es la primera vez que se intenta alimentar esa capa, entonces habrá que rellenar esos 128 inputos con 0s.\n",
    "\n",
    "![Figura 1](https://cdn-images-1.medium.com/max/1600/1*NKhwsOYNUT5xU7Pyf6Znhg.png)\n",
    "\n",
    "## El problema de Vanishing gradient\n",
    "\n",
    "Este problema es la dificultad encontrada en el entrenamiento de redes neuronales artificales basadas en aprendizaje gradiente y backpropagation. En estos métodos, cada peso de la red neuronal recibe una actualización proporcional al la derivada de la función de error respecto al peso actual en cada iteración del entrenamiento. El problema en algunos casos es, el gradiente será muy pequeño, evitando que el peso cambie de valor. En el peor de los casos, esto puede detener completamente la red neuronal de un entrenamiento posterior. Como un ejemplo de la causa del problema, las funciones tales como la función tangente hiperbólica, tienen gradientes en el range (0,1), y la propagación hacia atrás calcula los gradientes por la regla de la cadena. Esto tiene un efecto de multipllicar ``n`` de estos pequeños números para calcular gradientes de las capas \"frontales\" en una red de ``n`` capas, lo que significa que el gradiente (o la señal de erorr) disminuye exponencialmente con ``n`` mientras que las capas frontales se entrenan muy lentamente\n",
    "\n",
    "![Figura 2](https://cdn-images-1.medium.com/max/1460/1*FWy4STsp8k0M5Yd8LifG_Q.png)\n",
    "\n",
    "## Long Short Term Memory (LSTM)\n",
    "\n",
    "Los bloques (o unidades) de LSTM son una construicción de capas de una red recurrente neuronal (RNN). Una RNN compuesta de unidades LSTM se le llama una LSTM network. Una unidad común de LSTM está compuesta por una célula, una puerta de input, una puerta de output y una puerta de olvidado (forget gate). La célula es responsable de \"recordar\" los valores de los valores del intervalo arbitrarios, de ahí la \"memoria\" de LSTM. Cada una de las 3 puertas anteriormente nombradas, son lo que conocemos como una \"neurona artificial convencional\", como una red neuronal multicapa. Lo que hace es, computar una activación (usando la función de activación) de una suma de pesos. Intuitivamente, pueden nombrarse como los reguladores del flujo de los valores (flow of values) que va a través de las LSTM, de ahí la denominación de \"puerta\". Hay conexiones entre esta puerta y la célula.\n",
    "\n",
    "La expresión largo-corto-plazo (long short term) se refiere al hecho de que las redes LSTM son un modelo de memoria a corto y largo plazo las cuales duran un periodo de tiempo. Una LSTM está bien optimizada para clasificar, procesar y predecir series temporales, dados unos periodos de tiempo de un tamaño desconocido y una duración entre los eventos importantes. Las LSTM han sido desarrolladas para tratar con el problema del``exploding`` y ``vanishing`` ``gradient``cuando se entrenan las redes neuronales tradicionales.\n",
    "\n",
    "![Figura 3](https://cdn-images-1.medium.com/max/1600/0*LyfY3Mow9eCYlj7o.)\n",
    "\n",
    "### Componentes de una LSTM\n",
    " * Forget gate \"f\" (una red neuronal con sigmoide)\n",
    " * Candidate layer \"C\" (una RN con Tanh)\n",
    " * Input Gate \"I\" (Una RN con sigmoide)\n",
    " * Ouput Gate \"O\" (Una RN con sigmoide)\n",
    " * Hidden State \"H\" (Un vector)\n",
    " * Memory State \"C\" (Un vector)\n",
    " * Inputs de la célula LSTMen cualquier estado son X<sub>t</sub> (input actual) , H<sub>t-1</sub> (estado anterior oculto) y C<sub>t-1</sub> (estado de la memoria previo.\n",
    " * Outputs de la célula LSTM son H<sub>t</sub> (estado oculto actual) y C<sub>t</sub> (estado de la memoria actual).\n",
    "\n",
    "\n",
    "\n",
    "### Cargamos las librerías de trabajo"
   ]
  },
  {
   "cell_type": "markdown",
   "metadata": {},
   "source": [
    "## Carga de Librerías de trabajo"
   ]
  },
  {
   "cell_type": "code",
   "execution_count": 2,
   "metadata": {
    "tags": []
   },
   "outputs": [
    {
     "output_type": "stream",
     "name": "stdout",
     "text": "['onehr.data', 'ozone.csv', 'eighthr.names', 'onehr.names', 'Practica.ipynb', 'eighthr.data']\n"
    }
   ],
   "source": [
    "import os\n",
    "import pandas as pd\n",
    "import tensorflow as tf\n",
    "import numpy as np\n",
    "import matplotlib.pyplot as plt\n",
    "\n",
    "print(os.listdir(\"/home/jmgonzalezro/jmgonzalezro@gmail.com/Data Analysis/Universidad/17 Deep Learning/Practica\"))"
   ]
  },
  {
   "cell_type": "markdown",
   "metadata": {},
   "source": [
    "## Carga del dataset"
   ]
  },
  {
   "cell_type": "code",
   "execution_count": 7,
   "metadata": {},
   "outputs": [],
   "source": [
    "ozoneDF = pd.read_csv(\"/home/jmgonzalezro/jmgonzalezro@gmail.com/Data Analysis/Universidad/17 Deep Learning/Practica/ozone.csv\", sep = \",\")"
   ]
  },
  {
   "cell_type": "markdown",
   "metadata": {},
   "source": [
    "## Preprocesado y creación de datasets"
   ]
  },
  {
   "cell_type": "code",
   "execution_count": 10,
   "metadata": {
    "tags": []
   },
   "outputs": [
    {
     "output_type": "execute_result",
     "data": {
      "text/plain": "       Date WSR0 WSR1 WSR2 WSR3 WSR4 WSR5 WSR6 WSR7 WSR8  ...  RH50    U50  \\\n0  1/1/1998  0.8  1.8  2.4  2.1    2  2.1  1.5  1.7  1.9  ...  0.15  10.67   \n1  1/2/1998  2.8  3.2  3.3  2.7  3.3  3.2  2.9  2.8  3.1  ...  0.48   8.39   \n2  1/3/1998  2.9  2.8  2.6  2.1  2.2  2.5  2.5  2.7  2.2  ...   0.6   6.94   \n3  1/4/1998  4.7  3.8  3.7  3.8  2.9  3.1  2.8  2.5  2.4  ...  0.49   8.73   \n4  1/5/1998  2.6  2.1  1.6  1.4  0.9  1.5  1.2  1.4  1.3  ...     ?      ?   \n\n     V50  HT50     KI    TT    SLP SLP_ Precp target  \n0  -1.56  5795  -12.1  17.9  10330  -55     0    0.0  \n1   3.84  5805  14.05    29  10275  -55     0    0.0  \n2    9.8  5790   17.9  41.3  10235  -40     0    0.0  \n3  10.54  5775  31.15  51.7  10195  -40  2.08    0.0  \n4      ?     ?      ?     ?      ?    ?  0.58    0.0  \n\n[5 rows x 74 columns]",
      "text/html": "<div>\n<style scoped>\n    .dataframe tbody tr th:only-of-type {\n        vertical-align: middle;\n    }\n\n    .dataframe tbody tr th {\n        vertical-align: top;\n    }\n\n    .dataframe thead th {\n        text-align: right;\n    }\n</style>\n<table border=\"1\" class=\"dataframe\">\n  <thead>\n    <tr style=\"text-align: right;\">\n      <th></th>\n      <th>Date</th>\n      <th>WSR0</th>\n      <th>WSR1</th>\n      <th>WSR2</th>\n      <th>WSR3</th>\n      <th>WSR4</th>\n      <th>WSR5</th>\n      <th>WSR6</th>\n      <th>WSR7</th>\n      <th>WSR8</th>\n      <th>...</th>\n      <th>RH50</th>\n      <th>U50</th>\n      <th>V50</th>\n      <th>HT50</th>\n      <th>KI</th>\n      <th>TT</th>\n      <th>SLP</th>\n      <th>SLP_</th>\n      <th>Precp</th>\n      <th>target</th>\n    </tr>\n  </thead>\n  <tbody>\n    <tr>\n      <th>0</th>\n      <td>1/1/1998</td>\n      <td>0.8</td>\n      <td>1.8</td>\n      <td>2.4</td>\n      <td>2.1</td>\n      <td>2</td>\n      <td>2.1</td>\n      <td>1.5</td>\n      <td>1.7</td>\n      <td>1.9</td>\n      <td>...</td>\n      <td>0.15</td>\n      <td>10.67</td>\n      <td>-1.56</td>\n      <td>5795</td>\n      <td>-12.1</td>\n      <td>17.9</td>\n      <td>10330</td>\n      <td>-55</td>\n      <td>0</td>\n      <td>0.0</td>\n    </tr>\n    <tr>\n      <th>1</th>\n      <td>1/2/1998</td>\n      <td>2.8</td>\n      <td>3.2</td>\n      <td>3.3</td>\n      <td>2.7</td>\n      <td>3.3</td>\n      <td>3.2</td>\n      <td>2.9</td>\n      <td>2.8</td>\n      <td>3.1</td>\n      <td>...</td>\n      <td>0.48</td>\n      <td>8.39</td>\n      <td>3.84</td>\n      <td>5805</td>\n      <td>14.05</td>\n      <td>29</td>\n      <td>10275</td>\n      <td>-55</td>\n      <td>0</td>\n      <td>0.0</td>\n    </tr>\n    <tr>\n      <th>2</th>\n      <td>1/3/1998</td>\n      <td>2.9</td>\n      <td>2.8</td>\n      <td>2.6</td>\n      <td>2.1</td>\n      <td>2.2</td>\n      <td>2.5</td>\n      <td>2.5</td>\n      <td>2.7</td>\n      <td>2.2</td>\n      <td>...</td>\n      <td>0.6</td>\n      <td>6.94</td>\n      <td>9.8</td>\n      <td>5790</td>\n      <td>17.9</td>\n      <td>41.3</td>\n      <td>10235</td>\n      <td>-40</td>\n      <td>0</td>\n      <td>0.0</td>\n    </tr>\n    <tr>\n      <th>3</th>\n      <td>1/4/1998</td>\n      <td>4.7</td>\n      <td>3.8</td>\n      <td>3.7</td>\n      <td>3.8</td>\n      <td>2.9</td>\n      <td>3.1</td>\n      <td>2.8</td>\n      <td>2.5</td>\n      <td>2.4</td>\n      <td>...</td>\n      <td>0.49</td>\n      <td>8.73</td>\n      <td>10.54</td>\n      <td>5775</td>\n      <td>31.15</td>\n      <td>51.7</td>\n      <td>10195</td>\n      <td>-40</td>\n      <td>2.08</td>\n      <td>0.0</td>\n    </tr>\n    <tr>\n      <th>4</th>\n      <td>1/5/1998</td>\n      <td>2.6</td>\n      <td>2.1</td>\n      <td>1.6</td>\n      <td>1.4</td>\n      <td>0.9</td>\n      <td>1.5</td>\n      <td>1.2</td>\n      <td>1.4</td>\n      <td>1.3</td>\n      <td>...</td>\n      <td>?</td>\n      <td>?</td>\n      <td>?</td>\n      <td>?</td>\n      <td>?</td>\n      <td>?</td>\n      <td>?</td>\n      <td>?</td>\n      <td>0.58</td>\n      <td>0.0</td>\n    </tr>\n  </tbody>\n</table>\n<p>5 rows × 74 columns</p>\n</div>"
     },
     "metadata": {},
     "execution_count": 10
    }
   ],
   "source": [
    "ozoneDF.head()"
   ]
  },
  {
   "cell_type": "markdown",
   "metadata": {},
   "source": [
    "Obseravmos que tenemos las siguientes variables importantes:\n",
    "\n",
    "O 3 - Local ozone peak prediction\n",
    "\n",
    "Upwind - Upwind ozone background level\n",
    "\n",
    "EmFactor - Precursor emissions related factor\n",
    "\n",
    "Tmax - Maximum temperature in degrees F\n",
    "\n",
    "Tb - Base temperature where net ozone production begins (50 F)\n",
    "\n",
    "SRd - Solar radiation total for the day\n",
    "\n",
    "WSa - Wind speed near sunrise (using 09-12 UTC forecast mode)\n",
    "\n",
    "WSp - Wind speed mid-day (using 15-21 UTC forecast mode)\n",
    "\n",
    "\n",
    "\n",
    "Además de:\n",
    "\n",
    "KI - K-Index\n",
    "\n",
    "TT - T-Totals\n",
    "\n",
    "SLP - Sea level pressure\n",
    "\n",
    "SLP_ - SLP change from previous day\n",
    "\n",
    "Además de la target, que sería nuestro último atributo llamado **\"target\"**"
   ]
  },
  {
   "cell_type": "code",
   "execution_count": 19,
   "metadata": {
    "tags": []
   },
   "outputs": [
    {
     "output_type": "stream",
     "name": "stdout",
     "text": "El número de duplicados es:\n 0 \n\nLos tipos de varibales son:\n Date       object\nWSR0       object\nWSR1       object\nWSR2       object\nWSR3       object\n           ...   \nTT         object\nSLP        object\nSLP_       object\nPrecp      object\ntarget    float64\nLength: 74, dtype: object\n"
    }
   ],
   "source": [
    "# Compruebo que no tiene duplicados\n",
    "print(\"El número de duplicados es:\\n\",ozoneDF.duplicated().sum(),\n",
    "      \"\\n\\nLos tipos de varibales son:\\n\", ozoneDF.dtypes)\n",
    "\n",
    "# Compruebo los valores de cada una de las variables\n",
    "# ozoneDF.dtypes,\n",
    "\n",
    "# Evidentemente son todas objetos excepto la variable objetivo que es un numero"
   ]
  },
  {
   "cell_type": "code",
   "execution_count": 15,
   "metadata": {},
   "outputs": [
    {
     "output_type": "execute_result",
     "data": {
      "text/plain": "Date      0\nWSR0      0\nWSR1      0\nWSR2      0\nWSR3      0\n         ..\nTT        0\nSLP       0\nSLP_      0\nPrecp     0\ntarget    0\nLength: 74, dtype: int64"
     },
     "metadata": {},
     "execution_count": 15
    }
   ],
   "source": [
    "# Compruebo nulls\n",
    "ozoneDF.isnull().sum()"
   ]
  },
  {
   "cell_type": "code",
   "execution_count": 20,
   "metadata": {
    "tags": []
   },
   "outputs": [
    {
     "output_type": "stream",
     "name": "stdout",
     "text": "<class 'pandas.core.frame.DataFrame'>\nRangeIndex: 2534 entries, 0 to 2533\nData columns (total 74 columns):\n #   Column  Non-Null Count  Dtype  \n---  ------  --------------  -----  \n 0   Date    2534 non-null   object \n 1   WSR0    2534 non-null   object \n 2   WSR1    2534 non-null   object \n 3   WSR2    2534 non-null   object \n 4   WSR3    2534 non-null   object \n 5   WSR4    2534 non-null   object \n 6   WSR5    2534 non-null   object \n 7   WSR6    2534 non-null   object \n 8   WSR7    2534 non-null   object \n 9   WSR8    2534 non-null   object \n 10  WSR9    2534 non-null   object \n 11  WSR10   2534 non-null   object \n 12  WSR11   2534 non-null   object \n 13  WSR12   2534 non-null   object \n 14  WSR13   2534 non-null   object \n 15  WSR14   2534 non-null   object \n 16  WSR15   2534 non-null   object \n 17  WSR16   2534 non-null   object \n 18  WSR17   2534 non-null   object \n 19  WSR18   2534 non-null   object \n 20  WSR19   2534 non-null   object \n 21  WSR20   2534 non-null   object \n 22  WSR21   2534 non-null   object \n 23  WSR22   2534 non-null   object \n 24  WSR23   2534 non-null   object \n 25  WSR_PK  2534 non-null   object \n 26  WSR_AV  2534 non-null   object \n 27  T0      2534 non-null   object \n 28  T1      2534 non-null   object \n 29  T2      2534 non-null   object \n 30  T3      2534 non-null   object \n 31  T4      2534 non-null   object \n 32  T5      2534 non-null   object \n 33  T6      2534 non-null   object \n 34  T7      2534 non-null   object \n 35  T8      2534 non-null   object \n 36  T9      2534 non-null   object \n 37  T10     2534 non-null   object \n 38  T11     2534 non-null   object \n 39  T12     2534 non-null   object \n 40  T13     2534 non-null   object \n 41  T14     2534 non-null   object \n 42  T15     2534 non-null   object \n 43  T16     2534 non-null   object \n 44  T17     2534 non-null   object \n 45  T18     2534 non-null   object \n 46  T19     2534 non-null   object \n 47  T20     2534 non-null   object \n 48  T21     2534 non-null   object \n 49  T22     2534 non-null   object \n 50  T23     2534 non-null   object \n 51  T_PK    2534 non-null   object \n 52  T_AV    2534 non-null   object \n 53  T85     2534 non-null   object \n 54  RH85    2534 non-null   object \n 55  U85     2534 non-null   object \n 56  V85     2534 non-null   object \n 57  HT85    2534 non-null   object \n 58  T70     2534 non-null   object \n 59  RH70    2534 non-null   object \n 60  U70     2534 non-null   object \n 61  V70     2534 non-null   object \n 62  HT70    2534 non-null   object \n 63  T50     2534 non-null   object \n 64  RH50    2534 non-null   object \n 65  U50     2534 non-null   object \n 66  V50     2534 non-null   object \n 67  HT50    2534 non-null   object \n 68  KI      2534 non-null   object \n 69  TT      2534 non-null   object \n 70  SLP     2534 non-null   object \n 71  SLP_    2534 non-null   object \n 72  Precp   2534 non-null   object \n 73  target  2534 non-null   float64\ndtypes: float64(1), object(73)\nmemory usage: 1.4+ MB\n"
    }
   ],
   "source": [
    "ozoneDF.info()"
   ]
  },
  {
   "cell_type": "code",
   "execution_count": 21,
   "metadata": {},
   "outputs": [
    {
     "output_type": "execute_result",
     "data": {
      "text/plain": "            target\ncount  2534.000000\nmean      0.063141\nstd       0.243265\nmin       0.000000\n25%       0.000000\n50%       0.000000\n75%       0.000000\nmax       1.000000",
      "text/html": "<div>\n<style scoped>\n    .dataframe tbody tr th:only-of-type {\n        vertical-align: middle;\n    }\n\n    .dataframe tbody tr th {\n        vertical-align: top;\n    }\n\n    .dataframe thead th {\n        text-align: right;\n    }\n</style>\n<table border=\"1\" class=\"dataframe\">\n  <thead>\n    <tr style=\"text-align: right;\">\n      <th></th>\n      <th>target</th>\n    </tr>\n  </thead>\n  <tbody>\n    <tr>\n      <th>count</th>\n      <td>2534.000000</td>\n    </tr>\n    <tr>\n      <th>mean</th>\n      <td>0.063141</td>\n    </tr>\n    <tr>\n      <th>std</th>\n      <td>0.243265</td>\n    </tr>\n    <tr>\n      <th>min</th>\n      <td>0.000000</td>\n    </tr>\n    <tr>\n      <th>25%</th>\n      <td>0.000000</td>\n    </tr>\n    <tr>\n      <th>50%</th>\n      <td>0.000000</td>\n    </tr>\n    <tr>\n      <th>75%</th>\n      <td>0.000000</td>\n    </tr>\n    <tr>\n      <th>max</th>\n      <td>1.000000</td>\n    </tr>\n  </tbody>\n</table>\n</div>"
     },
     "metadata": {},
     "execution_count": 21
    }
   ],
   "source": [
    "ozoneDF.describe()\n",
    "\n",
    "# Con este describe compruebo que no hay valores que estén fuera de rango 0-1 en la variable target."
   ]
  },
  {
   "cell_type": "code",
   "execution_count": null,
   "metadata": {},
   "outputs": [],
   "source": []
  },
  {
   "cell_type": "code",
   "execution_count": null,
   "metadata": {},
   "outputs": [],
   "source": []
  },
  {
   "cell_type": "code",
   "execution_count": null,
   "metadata": {},
   "outputs": [],
   "source": []
  },
  {
   "cell_type": "code",
   "execution_count": null,
   "metadata": {},
   "outputs": [],
   "source": []
  },
  {
   "cell_type": "code",
   "execution_count": null,
   "metadata": {},
   "outputs": [],
   "source": []
  },
  {
   "cell_type": "code",
   "execution_count": null,
   "metadata": {},
   "outputs": [],
   "source": []
  },
  {
   "cell_type": "code",
   "execution_count": null,
   "metadata": {},
   "outputs": [],
   "source": []
  },
  {
   "cell_type": "code",
   "execution_count": null,
   "metadata": {},
   "outputs": [],
   "source": []
  },
  {
   "cell_type": "code",
   "execution_count": null,
   "metadata": {},
   "outputs": [],
   "source": []
  }
 ]
}